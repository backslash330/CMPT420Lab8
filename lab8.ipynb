{
 "cells": [
  {
   "cell_type": "code",
   "execution_count": null,
   "metadata": {},
   "outputs": [],
   "source": [
    "# Write a function BasicSimpsons(f, a, b) that takes a continuous function on the interval [a, b] and returns\n",
    "# the approximation for\n",
    "# ∫ b\n",
    "# a\n",
    "# f (x)dx using basic Simpson’s Rule"
   ]
  },
  {
   "cell_type": "code",
   "execution_count": 10,
   "metadata": {},
   "outputs": [
    {
     "name": "stdout",
     "output_type": "stream",
     "text": [
      "3.07419863343968\n",
      "0.874976707888250\n",
      "500.508996531543\n"
     ]
    }
   ],
   "source": [
    "def BasicSimpsons(f, a, b):\n",
    "    return (b-a)/6*(f(a) + 4*f((a+b)/2) + f(b))\n",
    "\n",
    "\n",
    "# 2 Test your function to approximate the following integrals:\n",
    "# •\n",
    "# ∫ 5\n",
    "# 1\n",
    "# (sin(x) −1 + √x)dx,\n",
    "# •\n",
    "# ∫ e\n",
    "# 1\n",
    "# sin(x)\n",
    "# x dx, and\n",
    "# •\n",
    "# ∫ e\n",
    "# 1\n",
    "# ex2\n",
    "# dx.\n",
    "# 1\n",
    "\n",
    "f(x) = sin(x) - 1 + sqrt(x)\n",
    "print(BasicSimpsons(f, 1, 5).n())\n",
    "#print(integrate(f, x,1, 5).n())\n",
    "f(x) = sin(x)/x\n",
    "print(BasicSimpsons(f, 1, e).n())\n",
    "#print(integrate(f, x, 1, e).n())\n",
    "f(x) = e^x^2\n",
    "print(BasicSimpsons(f, 1, e).n())\n",
    "# compare with the exact value\n",
    "#print(integrate(f, x, 1, e).n())"
   ]
  }
 ],
 "metadata": {
  "kernelspec": {
   "display_name": "SageMath 9.5",
   "language": "sage",
   "name": "sagemath"
  },
  "language_info": {
   "codemirror_mode": {
    "name": "ipython",
    "version": 3
   },
   "file_extension": ".py",
   "mimetype": "text/x-python",
   "name": "python",
   "nbconvert_exporter": "python",
   "pygments_lexer": "ipython3",
   "version": "3.9.9"
  },
  "orig_nbformat": 4
 },
 "nbformat": 4,
 "nbformat_minor": 2
}
