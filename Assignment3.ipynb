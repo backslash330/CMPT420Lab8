{
 "cells": [
  {
   "cell_type": "code",
   "execution_count": null,
   "metadata": {},
   "outputs": [],
   "source": [
    "# CMPT/MATH 420 - Assignment 3 fall 2022, Dr. Ben Cameron\n",
    "# Name:\n",
    "# Student Number:"
   ]
  },
  {
   "cell_type": "code",
   "execution_count": 5,
   "metadata": {},
   "outputs": [],
   "source": [
    "#define your function here\n",
    "def BasicSimpsons(f, a, b):\n",
    "    return (b-a)/6*(f(x=a) + 4*f(x=(a+b)/2) + f(x=b))\n",
    "def CompositeSimpsons(f, a, b, xvals):\n",
    "    result = 0\n",
    "    for i in range(len(xvals)-1):\n",
    "        result += BasicSimpsons(f, xvals[i], xvals[i+1])\n",
    "    return result.n()"
   ]
  },
  {
   "cell_type": "code",
   "execution_count": 6,
   "metadata": {},
   "outputs": [
    {
     "name": "stdout",
     "output_type": "stream",
     "text": [
      "Test 1: Example 1, worksheet 5.2\n",
      "3.07419863343968\n",
      "******************************************\n",
      "Test 2: Example 2, worksheet 5.2\n",
      "3.04393009815514\n",
      "******************************************\n",
      "Test 3: Example 3, worksheet 5.2\n",
      "0.882065510401332\n",
      "******************************************\n"
     ]
    }
   ],
   "source": [
    "# tests for CompositeSImpsons\n",
    "print(\"Test 1: Example 1, worksheet 5.2\")\n",
    "print(CompositeSimpsons(sin(x)-1+sqrt(x), 1, 5, [1,5]))\n",
    "print(\"******************************************\")\n",
    "print(\"Test 2: Example 2, worksheet 5.2\")\n",
    "print(CompositeSimpsons(sin(x)-1+sqrt(x), 1, 5, [1,3,5]))\n",
    "print(\"******************************************\")\n",
    "print(\"Test 3: Example 3, worksheet 5.2\")\n",
    "print(CompositeSimpsons(e^(-(x^2)), 0, 2, [0,0.5,1,1.5,2]))\n",
    "print(\"******************************************\")"
   ]
  }
 ],
 "metadata": {
  "kernelspec": {
   "display_name": "SageMath 9.5",
   "language": "sage",
   "name": "sagemath"
  },
  "language_info": {
   "codemirror_mode": {
    "name": "ipython",
    "version": 3
   },
   "file_extension": ".py",
   "mimetype": "text/x-python",
   "name": "python",
   "nbconvert_exporter": "python",
   "pygments_lexer": "ipython3",
   "version": "3.9.9"
  }
 },
 "nbformat": 4,
 "nbformat_minor": 4
}
